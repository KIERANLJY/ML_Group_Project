{
 "cells": [
  {
   "cell_type": "code",
   "execution_count": 1,
   "metadata": {},
   "outputs": [],
   "source": [
    "#coding:utf-8\n",
    "import numpy as np\n",
    "import pathlib\n",
    "import os, glob\n",
    "import pandas as pd\n",
    "import csv"
   ]
  },
  {
   "cell_type": "code",
   "execution_count": 2,
   "metadata": {},
   "outputs": [],
   "source": [
    "class_to_num = {}\n",
    "class_name_list = os.listdir('train')"
   ]
  },
  {
   "cell_type": "code",
   "execution_count": 3,
   "metadata": {},
   "outputs": [
    {
     "name": "stdout",
     "output_type": "stream",
     "text": [
      "['ai', 'an', 'an1', 'ao', 'bai', 'bao', 'ben', 'bing', 'cao', 'cao1', 'chen', 'cheng', 'cheng1', 'chun', 'cun', 'dao', 'de', 'di', 'fan', 'gou', 'guang', 'guang1', 'hai', 'han', 'hao', 'hu', 'hua', 'jian', 'lang', 'lao', 'ling', 'lu', 'lu1', 'mian', 'nan', 'shang', 'shao', 'sheng', 'shi', 'ting', 'wu', 'wu1', 'xiang', 'xin', 'xue', 'zhao', 'zhe', 'zhong', 'zhu', 'zu']\n"
     ]
    }
   ],
   "source": [
    "print(class_name_list)"
   ]
  },
  {
   "cell_type": "code",
   "execution_count": 4,
   "metadata": {},
   "outputs": [],
   "source": [
    "for class_name in class_name_list:\n",
    "    class_to_num[class_name] = len(class_to_num.keys())"
   ]
  },
  {
   "cell_type": "code",
   "execution_count": 5,
   "metadata": {},
   "outputs": [
    {
     "name": "stdout",
     "output_type": "stream",
     "text": [
      "{'ai': 0, 'an': 1, 'an1': 2, 'ao': 3, 'bai': 4, 'bao': 5, 'ben': 6, 'bing': 7, 'cao': 8, 'cao1': 9, 'chen': 10, 'cheng': 11, 'cheng1': 12, 'chun': 13, 'cun': 14, 'dao': 15, 'de': 16, 'di': 17, 'fan': 18, 'gou': 19, 'guang': 20, 'guang1': 21, 'hai': 22, 'han': 23, 'hao': 24, 'hu': 25, 'hua': 26, 'jian': 27, 'lang': 28, 'lao': 29, 'ling': 30, 'lu': 31, 'lu1': 32, 'mian': 33, 'nan': 34, 'shang': 35, 'shao': 36, 'sheng': 37, 'shi': 38, 'ting': 39, 'wu': 40, 'wu1': 41, 'xiang': 42, 'xin': 43, 'xue': 44, 'zhao': 45, 'zhe': 46, 'zhong': 47, 'zhu': 48, 'zu': 49}\n"
     ]
    }
   ],
   "source": [
    "print(class_to_num)"
   ]
  },
  {
   "cell_type": "markdown",
   "metadata": {},
   "source": [
    "{'ai': 0, 'an': 1, 'an1': 2, 'ao': 3, 'bai': 4, 'bao': 5, 'ben': 6, 'bing': 7, 'cao': 8, 'cao1': 9, 'chen': 10, 'cheng': 11, 'cheng1': 12, 'chun': 13, 'cun': 14, 'dao': 15, 'de': 16, 'di': 17, 'fan': 18, 'gou': 19, 'guang': 20, 'guang1': 21, 'hai': 22, 'han': 23, 'hao': 24, 'hu': 25, 'hua': 26, 'jian': 27, 'lang': 28, 'lao': 29, 'ling': 30, 'lu': 31, 'lu1': 32, 'mian': 33, 'nan': 34, 'shang': 35, 'shao': 36, 'sheng': 37, 'shi': 38, 'ting': 39, 'wu': 40, 'wu1': 41, 'xiang': 42, 'xin': 43, 'xue': 44, 'zhao': 45, 'zhe': 46, 'zhong': 47, 'zhu': 48, 'zu': 49}"
   ]
  },
  {
   "cell_type": "code",
   "execution_count": 6,
   "metadata": {},
   "outputs": [],
   "source": [
    "image_dir = []\n",
    "for class_name in class_name_list:\n",
    "    image_dir += glob.glob(os.path.join('train', class_name, '*'))"
   ]
  },
  {
   "cell_type": "code",
   "execution_count": 7,
   "metadata": {},
   "outputs": [],
   "source": [
    "import random\n",
    "random.shuffle(image_dir)"
   ]
  },
  {
   "cell_type": "code",
   "execution_count": 8,
   "metadata": {},
   "outputs": [],
   "source": [
    "\n",
    "with open('data.csv',mode='w',newline='') as f:\n",
    "    writer = csv.writer(f)\n",
    "    for image in image_dir:\n",
    "        class_name = image.split(os.sep)[-2]\n",
    "        label = class_to_num[class_name]\n",
    "        writer.writerow([image, label])\n",
    "\n",
    "\n",
    "    "
   ]
  },
  {
   "cell_type": "code",
   "execution_count": null,
   "metadata": {},
   "outputs": [],
   "source": []
  }
 ],
 "metadata": {
  "kernelspec": {
   "display_name": "Python 3.10.8 ('env': venv)",
   "language": "python",
   "name": "python3"
  },
  "language_info": {
   "codemirror_mode": {
    "name": "ipython",
    "version": 3
   },
   "file_extension": ".py",
   "mimetype": "text/x-python",
   "name": "python",
   "nbconvert_exporter": "python",
   "pygments_lexer": "ipython3",
   "version": "3.10.8"
  },
  "orig_nbformat": 4,
  "vscode": {
   "interpreter": {
    "hash": "b2ba4feb6d442ac3739e642f2dd3c7956da06ce3680276a053412d5c8fd63665"
   }
  }
 },
 "nbformat": 4,
 "nbformat_minor": 2
}
